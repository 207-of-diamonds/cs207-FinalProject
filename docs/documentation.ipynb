{
 "cells": [
  {
   "cell_type": "markdown",
   "metadata": {
    "colab_type": "text",
    "id": "C-EW0E8Qe_MB"
   },
   "source": [
    "# **Introduction**\n",
    "\n",
    "In the mid-17th century, Isaac Newton and Gottfried Leibniz independently discovered calculus. These groundbreaking scientific advances unfortunately led to a bitter dispute between the two that spanned the duration of their lives.$^1$ While the origins of calculus may be disputed, its applications are not. Differentiation allows us to identify the maxima, minima and zeros for that function. The ability to do each of these things is crucial in the context of optimization and modern machine learning.\n",
    "\n",
    "The classical way of computing the derivative of a function spans two distinct approaches: approximate, numerical methods and symbolic methods. Each of these methods suffers from its own pitfalls, including numerical instability and long computation time. These pitfalls are magnified as our functions increase in complexity.$^2$ Automatic Differentiation (AD) suffers from neither instability nor long computational time, and it computes derivatives up to machine precision. AD is easily implemented via computer code, and our package will allow the user to implement to forward mode of Automatic Differentiation in python.$^2$\n"
   ]
  },
  {
   "cell_type": "markdown",
   "metadata": {
    "colab_type": "text",
    "id": "VCGVORb5fWbB"
   },
   "source": [
    "# **Background**\n",
    "\n",
    "\n",
    "### ***What is automatic differentiation (AD)?***\n",
    "\n",
    "\n",
    "Automatic differentiation (AD) is also known as algorithmic differentiation or computational differentiation.$^3$\n",
    "\n",
    "AD is a set of techniques for numerically evaluating derivatives (gradients) by executing a sequence of arithmetic operations and elementary functions. The derivatives can therefore be computed automatically when applying chain rules to such a sequence of operations.$^{4,5}$ There are two major modes of AD: forward and reverse.$^{3,4,5}$ \n",
    "\n",
    "### ***Why is AD important?***\n",
    "\n",
    "AD and symbolic differentiation both result in more accurate computation than numerical difference estimations. However, unlike symbolic approach, AD evaluates expressions numerically at particular numeric values and does not construct symbolic expressions.$^{3}$\n",
    "\n",
    "### ***How AD works?***\n",
    "\n",
    "The core of AD is the chain rule from Calculus. Chain rule computes the derivative for composition of two or more functions, where the derivative of a function measures the change of the output value relative to the change in input.\n",
    "For a composition of f and h, its derivative can be calculated as the following:\n",
    "        $$\\frac{d}{dx}[f(h(x))] = f'(h(x))h'(x)$$\n",
    "\n",
    "With the help of a computational graph and its traces, partial derivatives relative to x and y are combinations of derivatives of elementary functions, which can be calculated analytically.\n",
    "Let’s consider a simple example: $$f = xcos(y)+xy$$\n",
    "In AD, its computational graph and evaluation trace for forward mode looks like the following:\n",
    "\n",
    "### **Computational Graph:**\n",
    "\n",
    "![Computational Graph](BitterDispute_ADGraph.png)\n",
    "\n",
    "### **Evaluation Trace:**\n",
    "\n",
    "| Trace   | Elementary Function      | Current Value                   | Elementary Function Derivative       | $\\nabla_{x}$ Value  | $\\nabla_{y}$ Value  |\n",
    "| :---: | :-----------------: | :----------------------: | :----------------------------: | :-----------------:  | :-----------------: |\n",
    "| $x_{1}$ | $x_{1}$                  | $x$                     | $\\dot{x}_{1}$                     | $1$ | $0$ |\n",
    "| $x_{2}$ | $x_{2}$                  | $y$                     | $\\dot{x}_{2}$                     | $0$ | $1$ |\n",
    "| $x_{3}$ | $cos(x_{2})$             | $cos(y)$                | $-sin(x_{2})\\dot{x}_{2}$          | $0$ | $-sin(y)$ |\n",
    "| $x_{4}$ | $x_{1}x_{2}$             | $xy$           | $\\dot{x}_{1}x_{2}+x_{1}\\dot{x}_{2}$      | $y$ | $x$ |\n",
    "| $x_{5}$ | $x_{1}cos(x_{2})$        | $xcos(y)$       | $\\dot{x}_{1}(-sin(x_{2}))+x_{1}\\dot{x}_{2}$|$-sin(y)$ | $x$ |\n",
    "| $x_{6}$ | $x_{3}+x_{5}$        | $cos(y)+xcos(y)$       | $\\dot{x}_{3}+\\dot{x}_{5}$    | $-sin(y)$ | $-sin(y)+x$ |\n",
    "\n",
    "\n",
    "We found that $$\\frac{d}{dx}f=-sin(y)$$ and $$\\frac{d}{dy}f=sin(y)+x$$\n",
    "In forward mode, the values and their derivatives are stored along the chain accumulatively.\n",
    "\n",
    "### ***Jacobian and Vectors***\n",
    "\n",
    "The Jacobian is the matrix of partial derivatives.\n",
    "Suppose we have a function $\\mathbf{y}(\\mathbf{x})$ that maps $R_n$ to $R_m$, the Jacobian maxtrix of the function is then the following:\n",
    "$$\n",
    "\\mathbf{J} = \\begin{bmatrix}\n",
    "\\frac{\\partial \\mathbf{f}}{\\partial x_1}  \\dots  \\frac{\\partial \\mathbf{f}}{\\partial x_n}\n",
    "\\end{bmatrix} = \\begin{bmatrix} \n",
    "\\frac{\\partial {f_1}}{\\partial x_1}  \\dots  \\frac{\\partial {f_1}}{\\partial x_n} \\\\\n",
    "\\vdots  \\ddots  \\vdots\\\\\n",
    "\\frac{\\partial {f_m}}{\\partial x_1}  \\dots  \\frac{\\partial {f_m}}{\\partial x_n} \\\\\n",
    "\\end{bmatrix}\n",
    "$$\n",
    "In general, for example, we have a function $h(\\mathbf{f}(\\mathbf{x}))$. Suppose a vector $\\mathbf{v}$ happens to be the gradient of h with respect the vector $\\mathbf{f}$ as follows:\n",
    "$$\n",
    "\\mathbf{v} = \\begin{bmatrix}\n",
    "\\frac{\\partial h}{\\partial f_1}  \\dots  \\frac{\\partial h}{\\partial f_m}\n",
    "\\end{bmatrix} ^T\n",
    "$$ To get the gradient of h with respect to $\\mathbf{x}$, we multiply Jacobian matrix $\\mathbf{J}$ with vector $\\mathbf{v}$:\n",
    "$$\\mathbf{J} \\cdot \\mathbf{v} = \\begin{bmatrix} \n",
    "\\frac{\\partial {f_1}}{\\partial x_1}  \\dots  \\frac{\\partial {f_m}}{\\partial x_n} \\\\\n",
    "\\vdots  \\ddots  \\vdots\\\\\n",
    "\\frac{\\partial {f_1}}{\\partial x_1}  \\dots  \\frac{\\partial {f_m}}{\\partial x_n} \\\\\n",
    "\\end{bmatrix} \n",
    "\\begin{bmatrix}\n",
    "\\frac{\\partial h}{\\partial y_1} \\\\\n",
    "\\vdots \\\\ \n",
    "\\frac{\\partial h}{\\partial y_m}\n",
    "\\end{bmatrix} = \\begin{bmatrix}\n",
    "\\frac{\\partial h}{\\partial x_1} \\\\\n",
    "\\vdots \\\\ \n",
    "\\frac{\\partial h}{\\partial x_n}\n",
    "\\end{bmatrix} $$\n",
    "\n",
    "### ***Applications of AD:***\n",
    "\n",
    "AD has been used in many applications, including optimization (solving nonlinear equations utilizing gradients/Hessians), inverse problems/data assimilation, neural networks, etc.$^{6}$\n"
   ]
  },
  {
   "cell_type": "markdown",
   "metadata": {
    "colab_type": "text",
    "id": "nd2JqNHvf3bI"
   },
   "source": [
    "# How to Use BitterDispute \n",
    "\n",
    "## Installation\n",
    "\n",
    "You can download our package from the PyPI network using pip.\n",
    "\n",
    "    pip install bitterdispute\n",
    "    \n",
    "If you would prefer to copy the repository as is, you can do so here.\n",
    "\n",
    "    git clone https://github.com/207-of-diamonds/cs207-FinalProject.git\n",
    "\n",
    "**Note**: *We recommend performing all tests of BitterDispute in a custom conda environment to ensure required packages remain isolated from your normal space. At the moment, BitterDispute is only available for Python 3. To create a conda environment with the necessary Python version, you can run the below command:*\n",
    "\n",
    "    conda create --name bitterdispute python=3.7\n",
    "    conda activate bitterdispute\n",
    "\n",
    "After cloning the repository, the user should install the minimum requirements using the provided requirements.txt file. To do this, run the below command:\n",
    "\n",
    "    pip install -r requirements.txt\n",
    "\n",
    "## Usage\n",
    "\n",
    "After installing BitterDispute and the necessary dependencies, you can initiate a Python session through the Terminal (Terminal command: *‘python’*) or a Jupyter Notebook session (Terminal command: *‘jupyter notebook’*).\n",
    "\n",
    "The implementation for Forward Mode Automatic Differentiation can be imported using the below command:\n",
    "\n",
    "    from bitterdispute.forward_mode import AD\n",
    "\n",
    "To begin differentiating, simply type **AD()**! You can save this to a variable for future reference and updating of its outputs.\n",
    "\n",
    "    # Initiates forward mode automatic differentiation without saving output values\n",
    "    AD()\n",
    "\n",
    "    # Initiates AD and saves output values to variable x for future reference\n",
    "    x = AD()\n",
    "\n",
    "Our package's user interface will guide you through the process by asking you to enter several values:\n",
    "- The number of variables that are in your formula(s)\n",
    "- Values for each variable\n",
    "- The formula(s) you would like to derive, entered as a copied list or manually typed separated by commas\n",
    "\n",
    "From there, BitterDispute will handle the rest! At the end, the object will print a statement summarizing the formula(s) used and return to output the derived value based on the inputted numbers.\n",
    "\n",
    "There are multiple callable properties for the user to call when they need to retrieve specific information about the input formula and the derived value or formula. The package will return three outputs:\n",
    "- **x.inputs**: The input values for the variables in your formula(s)\n",
    "- **x.outputs**: The ultimate value(s) of the formula(s) based on the values you entered\n",
    "- **x.derivatives**: The final derivative(s) of the formula(s) based on the values you entered\n",
    "- **x.second_derivatives**: The final derivative(s) of the formula(s) based on the values you entered\n",
    "- **x.formulas**: The formula(s) you entered as a string\n",
    "\n",
    "Printing the object 'x' will return a string clarifying which formula was used in this AD() instance.\n",
    "\n",
    "\n",
    "For a printed example of BitterDispute, please see the below example.\n",
    "\n",
    "    >>> from bitterdispute.forward_mode import AD\n",
    "    >>> x = AD()\n",
    "\n",
    "            Welcome to Bitter Dispute! America's favorite automatically\n",
    "            differentiating gameshow. Let's get started.\n",
    "            \n",
    "    How many variables are in your formula? Your limit is 26. >> 2\n",
    "    Great, we'll use 2 variables.\n",
    "    Please enter a value for variable number 1.\n",
    "    y = 5\n",
    "    Please enter a value for variable number 2.\n",
    "    x = 8\n",
    "    Thank you, we recorded these values:\n",
    "    y = 5.0\n",
    "    x = 8.0\n",
    "    Lastly, what formula would you like to derive? Please use the variables just listed.\n",
    "    sin(x)*7+4*tanh(y)\n",
    "    The final derivative of formula sin(x)*7+4*tanh(y) with your chosen values is -1.0177739037365197. Thanks for playing!\n",
    "    >>> x.inputs\n",
    "    ['y = 5.0', 'x = 8.0']\n",
    "    >>> x.val\n",
    "    10.925144543414053\n",
    "    >>> x.der\n",
    "    -1.0177739037365197\n",
    "    >>> x.formula\n",
    "    'sin(x)*7+4*tanh(y)'\n",
    "    >>> print(x)\n",
    "    Formula(s) saved: {self.formulas},\n",
    "        Value(s) used: {self.values},\n",
    "        Derivatives found: {self.derivatives}\n",
    "        \n",
    "        \n",
    "If you'd like to try "
   ]
  },
  {
   "cell_type": "code",
   "execution_count": 1,
   "metadata": {},
   "outputs": [
    {
     "name": "stdout",
     "output_type": "stream",
     "text": [
      "\n",
      "        Welcome to Bitter Dispute! America's favorite automatically\n",
      "        differentiating gameshow. Let's get started.\n",
      "        \n",
      "How many variables are in your formula(s)? The limit is 26. >> 2\n",
      "Great, we'll use 2 variables.\n",
      "Please enter a value for variable number 1.\n",
      "y = 3\n",
      "Please enter a value for variable number 2.\n",
      "x = 5\n",
      "Thank you, we recorded these values:\n",
      "y = y = 3.0\n",
      "x = x = 5.0\n",
      "Lastly, what formulas would you like to derive? Please use the variables just listed.\n",
      "        You may enter as many formulas as you'd like, either writing them separated by commas or copying a list.\n",
      "sin(x)+y*tan(y)\n",
      "The final derivative of formula ['sin(x)+y*tan(y)'] with your chosen values is [{'y': 2.915515530855921, 'x': 0.2836621854632263}]. Thanks for playing!\n",
      "\n",
      "        Formula(s) saved: ['sin(x)+y*tan(y)'],\n",
      "        Value(s) used: {'y': 3.0, 'x': 5.0},\n",
      "        Derivatives found: [{'y': 2.915515530855921, 'x': 0.2836621854632263}]\n",
      "        \n"
     ]
    }
   ],
   "source": [
    "from bitterdispute.forward_mode import AD\n",
    "x = AD()\n",
    "# Note: You'll be able to enter your own values and formulas once you've installed the package.\n",
    "print(x)"
   ]
  },
  {
   "cell_type": "code",
   "execution_count": 2,
   "metadata": {},
   "outputs": [
    {
     "name": "stdout",
     "output_type": "stream",
     "text": [
      "\n",
      "        Formula(s) saved: ['sin(x)+y*tan(y)'],\n",
      "        Value(s) used: {'y': 3.0, 'x': 5.0},\n",
      "        Derivatives found: [{'y': 2.915515530855921, 'x': 0.2836621854632263}]\n",
      "        \n",
      "---------------------------\n",
      "{'y': 3.0, 'x': 5.0}\n",
      "[-1.3865639038859718]\n",
      "[{'y': 2.915515530855921, 'x': 0.2836621854632263}]\n",
      "[{'y': 1.216788433989147, 'x': 0.07715910862650542}]\n",
      "['sin(x)+y*tan(y)']\n"
     ]
    }
   ],
   "source": [
    "# View saved information - General Information from print()\n",
    "print(x)\n",
    "print(\"---------------------------\")\n",
    "# View saved information - Detailed Information from each saved parameter\n",
    "print(x.inputs)\n",
    "print(x.outputs)\n",
    "print(x.derivatives)\n",
    "print(x.second_derivatives)\n",
    "print(x.formulas)"
   ]
  },
  {
   "cell_type": "code",
   "execution_count": 3,
   "metadata": {},
   "outputs": [
    {
     "name": "stdout",
     "output_type": "stream",
     "text": [
      "Please enter new value for y\n",
      "y = 8\n",
      "Please enter new value for x\n",
      "x = 7\n",
      "Thank you, we recorded these values:\n",
      "y = y = 8.0\n",
      "x = x = 7.0\n",
      "The final derivative of formula ['sin(x)+y*tan(y)'] with your chosen values is [{'y': 56.69692077220964, 'x': 0.7539022543433046}]. Thanks for playing!\n"
     ]
    }
   ],
   "source": [
    "# Run the new_values helper method\n",
    "x.new_values()"
   ]
  },
  {
   "cell_type": "code",
   "execution_count": 4,
   "metadata": {},
   "outputs": [
    {
     "name": "stdout",
     "output_type": "stream",
     "text": [
      "What new formulas would you like to derive? Please use the same saved variables.\n",
      "        You may enter as many formulas as you'd like, either writing them separated by commas or copying a list.\n",
      "tanh(x)+y**3\n",
      "x = 7.0\n",
      "The final derivative of formula ['tanh(x)+y**3'] with your chosen values is [{'y': 192.0, 'x': 3.3261093449010853e-06}]. Thanks for playing!\n"
     ]
    }
   ],
   "source": [
    "# Run the new_formulas helper method\n",
    "x.new_formulas()"
   ]
  },
  {
   "cell_type": "markdown",
   "metadata": {
    "colab_type": "text",
    "id": "eu_rwCISgFQE"
   },
   "source": [
    "**Software Organization**\n",
    "\n",
    "*What does the directory structure look like?*\n",
    "\n",
    "    LICENSE\n",
    "    README.md\n",
    "    requirements.txt\n",
    "    setup.py\n",
    "    __init__.py\n",
    "    /bitterdispute\n",
    "        forward_mode.py\n",
    "        variable.py\n",
    "        elementary_functions.py\n",
    "        optimization_GD_LS.py\n",
    "    /tests\n",
    "        test_forward_mode.py\n",
    "        test_variable.py\n",
    "        test_elementary_functions.py\n",
    "    /docs\n",
    "        documentation.ipynbd\n",
    "        milestone2.ipynb\n",
    "        milestone1.ipynb\n",
    "        BitterDispute_ADGraph.png\n",
    "    /dist\n",
    "        bitterdispute-0.1.tar.gz\n",
    "        bitterdispute-0.1-py3-none-any.whl\n",
    "    /build\n",
    "        bdist.macosx-10.7-x86_64\n",
    "    bitterdispute.egg-info\n",
    " \n",
    "*What modules are included? What is their basic functionality?*\n",
    "\n",
    "Within our package, */bitterdispute* contains the forward mode user-facing implementation, our variable class, mathematical elementary functions for our variable class and functions defining various optimization methods. Our forward mode module imports all necessary classes and functions to execute forward mode automatic differentiation.\n",
    "\n",
    "*Where does your test suite live?*\n",
    "\n",
    "Our tests live in a dedicated module to assist with robust test creation. In */tests*, we maintain around 50todo testing functions for the various .py files that comprise our BitterDispute package. We use both Travis-CI and CodeCov to monitor our commits and to ensure that keeping our tests in a separate module doesn’t prevent us from maintaining sufficient code coverage.\n",
    "\n",
    "To run tests manually, from the repository main folder, simply run one or both of the below commands:\n",
    "\n",
    "    pytest                        # Gathers all tests in the repository and runs simultaneously\n",
    "    pytest --cov=./bitterdispute/    # Gathers all tests and calculates repository code coverage\n"
   ]
  },
  {
   "cell_type": "markdown",
   "metadata": {
    "colab_type": "text",
    "id": "XbWP9gQ9K5JS"
   },
   "source": [
    "**Implementation**\n",
    ">*AD Class*\n",
    "\n",
    "We have implemented the AD class, which provides the user-facing instructions for forward mode automatic differentiation. It seeks input from the user's screen and saves that in Variable class objects.\n",
    "\n",
    "To initialize the Automatic Differentation class, the user will call AD() by itself or saved to a variable and follow the on-screen instructions."
   ]
  },
  {
   "cell_type": "markdown",
   "metadata": {
    "colab_type": "text",
    "id": "XbWP9gQ9K5JS"
   },
   "source": [
    ">*Variable Class*\n",
    "\n",
    "We have implemented the Variable class, which will take in scalar variables. Each Variable is meant to represent one scalar variable ('x') at a time, but dynamically tracks derivatives and second derivatives with respect to other Variables it interacts with in any formula.\n",
    "\n",
    "To initialize the Variable class, the user will pass a name as stirng and value as int or float for the variable. The .name, .val, .der and .der2 attributes of the Variable class object can be called to return the name of the variable, its current value, its derivatives and second derivatives with respect to any variables it encounters after instantiation within a formulas."
   ]
  },
  {
   "cell_type": "code",
   "execution_count": 5,
   "metadata": {
    "colab": {
     "base_uri": "https://localhost:8080/",
     "height": 300
    },
    "colab_type": "code",
    "id": "10oIXKboLFK9",
    "outputId": "7eabcf1e-6a6c-48f6-9a7f-dba72f69e37a"
   },
   "outputs": [],
   "source": [
    "import sys\n",
    "sys.path.append('..')\n",
    "from bitterdispute.variable import Variable\n",
    "from bitterdispute.forward_mode import AD"
   ]
  },
  {
   "cell_type": "code",
   "execution_count": 6,
   "metadata": {
    "colab": {},
    "colab_type": "code",
    "id": "Pv1it4ShLH3y"
   },
   "outputs": [],
   "source": [
    "# Examples\n",
    "a = 2.0 \n",
    "x = Variable('x', a)"
   ]
  },
  {
   "cell_type": "code",
   "execution_count": 7,
   "metadata": {
    "colab": {
     "base_uri": "https://localhost:8080/",
     "height": 50
    },
    "colab_type": "code",
    "id": "c6x2-9yPLLOP",
    "outputId": "4a77abf5-6823-4e07-822f-e6a21c2c38ee"
   },
   "outputs": [
    {
     "name": "stdout",
     "output_type": "stream",
     "text": [
      "Value of 3 + x:  5.0 ; Derivative:  {'x': 1} ; Second Derivative:  {'x': 0}\n",
      "Value of x + 3:  5.0 ; Derivative:  {'x': 1} ; Second Derivative:  {'x': 0}\n"
     ]
    }
   ],
   "source": [
    "#Addition\n",
    "f = 3 + x\n",
    "print(\"Value of 3 + x: \", f.val,\"; Derivative: \", f.der,\"; Second Derivative: \", f.der2)\n",
    "f = x + 3\n",
    "print(\"Value of x + 3: \", f.val,\"; Derivative: \", f.der,\"; Second Derivative: \", f.der2)"
   ]
  },
  {
   "cell_type": "code",
   "execution_count": 8,
   "metadata": {
    "colab": {
     "base_uri": "https://localhost:8080/",
     "height": 50
    },
    "colab_type": "code",
    "id": "lJsjDw66LOOF",
    "outputId": "6fb5abf0-fc36-4e01-f2b2-c5e4f701b915"
   },
   "outputs": [
    {
     "name": "stdout",
     "output_type": "stream",
     "text": [
      "Value of 3 - x:  ; Derivative:  {'x': -1} ; Second Derivative:  {'x': 0}\n",
      "Value x - 3:  -1.0 ; Derivative:  {'x': 1} ; Second Derivative:  {'x': 0}\n"
     ]
    }
   ],
   "source": [
    "#Subtraction\n",
    "f = 3 - x\n",
    "print(\"Value of 3 - x: \",\"; Derivative: \", f.der,\"; Second Derivative: \", f.der2)\n",
    "f = x - 3\n",
    "print(\"Value x - 3: \", f.val,\"; Derivative: \", f.der,\"; Second Derivative: \", f.der2)"
   ]
  },
  {
   "cell_type": "code",
   "execution_count": 9,
   "metadata": {
    "colab": {
     "base_uri": "https://localhost:8080/",
     "height": 50
    },
    "colab_type": "code",
    "id": "nRncuGCoLRPs",
    "outputId": "14bc1dde-a4f1-4693-9d36-9ce5d656b0ab"
   },
   "outputs": [
    {
     "name": "stdout",
     "output_type": "stream",
     "text": [
      "Value of 4*x:  8.0 ; Derivative:  {'x': 4.0} ; Second Derivative:  {'x': 0.0}\n",
      "Value x*4:  8.0 ; Derivative:  {'x': 4.0} ; Second Derivative:  {'x': 0.0}\n"
     ]
    }
   ],
   "source": [
    "#Multiplication\n",
    "f = 4*x\n",
    "print(\"Value of 4*x: \", f.val,\"; Derivative: \", f.der,\"; Second Derivative: \", f.der2)\n",
    "f = x*4\n",
    "print(\"Value x*4: \", f.val,\"; Derivative: \", f.der,\"; Second Derivative: \", f.der2)"
   ]
  },
  {
   "cell_type": "code",
   "execution_count": 10,
   "metadata": {
    "colab": {
     "base_uri": "https://localhost:8080/",
     "height": 50
    },
    "colab_type": "code",
    "id": "8jqUoFH3LWZk",
    "outputId": "be65f77e-ad1a-422b-e4b2-a18dc6d62045"
   },
   "outputs": [
    {
     "name": "stdout",
     "output_type": "stream",
     "text": [
      "Value of 2/x:  1.0 ; Derivative:  {'x': -0.5} ; Second Derivative:  {'x': 0.5}\n",
      "Value x/3:  0.6666666666666666 ; Derivative:  {'x': 0.3333333333333333} ; Second Derivative:  {'x': 0.0}\n"
     ]
    }
   ],
   "source": [
    "#Division\n",
    "f = 2/x\n",
    "print(\"Value of 2/x: \", f.val,\"; Derivative: \", f.der,\"; Second Derivative: \", f.der2)\n",
    "f = x/3\n",
    "print(\"Value x/3: \", f.val,\"; Derivative: \", f.der,\"; Second Derivative: \", f.der2)"
   ]
  },
  {
   "cell_type": "code",
   "execution_count": 11,
   "metadata": {
    "colab": {
     "base_uri": "https://localhost:8080/",
     "height": 50
    },
    "colab_type": "code",
    "id": "4lBpxD8DLZwt",
    "outputId": "4b729919-1850-4fe2-e210-b4bdd48861e3"
   },
   "outputs": [
    {
     "name": "stdout",
     "output_type": "stream",
     "text": [
      "Value of 2**x:  4.0 ; Derivative:  {'x': 2.772588722239781} ; Second Derivative:  {'x': 1.9218120556728056}\n",
      "Value x**3:  8.0 ; Derivative:  {'x': 12.0} ; Second Derivative:  {'x': 12.0}\n"
     ]
    }
   ],
   "source": [
    "#Power\n",
    "f = 2**x\n",
    "print(\"Value of 2**x: \", f.val,\"; Derivative: \", f.der,\"; Second Derivative: \", f.der2)\n",
    "f = x**3\n",
    "print(\"Value x**3: \", f.val,\"; Derivative: \", f.der,\"; Second Derivative: \", f.der2)"
   ]
  },
  {
   "cell_type": "code",
   "execution_count": 12,
   "metadata": {},
   "outputs": [
    {
     "name": "stdout",
     "output_type": "stream",
     "text": [
      "Value of x*y + 2*x*y**2:  42.0 ; Derivative:  {'y': 26.0, 'x': 21.0} ; Second Derivative:  {'y': 8.0, 'x': 0.0}\n"
     ]
    }
   ],
   "source": [
    "#Multivariable Example\n",
    "b = 3\n",
    "y = Variable('y', b)\n",
    "g = x*y + 2*x*y**2\n",
    "print(\"Value of x*y + 2*x*y**2: \", g.val,\"; Derivative: \", g.der,\"; Second Derivative: \", g.der2)"
   ]
  },
  {
   "cell_type": "markdown",
   "metadata": {
    "colab_type": "text",
    "id": "w3bfX8VuqLu8"
   },
   "source": [
    ">*Elementary Functions:*\n",
    "\n",
    "We've defined a series of elementary operations on Variable objects or constant values, including trig, exponential, and log functions.\n",
    "\n",
    "Our module relies on the numpy package to evaluate the above elementary functions. The methods in the func module define how to perform elementary operations on scalars as well as variable objects.\n",
    "\n",
    "For example, the sin function uses numpy.sin and numpy.cos to calculate value and derivative respectively. When a scalar input is detected, it is given a null derivative (i.e. treated as a constant). Sin returns a variable object with the updated value and derivative (perhaps zero)."
   ]
  },
  {
   "cell_type": "code",
   "execution_count": 13,
   "metadata": {
    "colab": {},
    "colab_type": "code",
    "id": "LnbWyNfdqSsW"
   },
   "outputs": [],
   "source": [
    "#import our modules\n",
    "import bitterdispute.elementary_functions as elem\n",
    "import bitterdispute.variable as var"
   ]
  },
  {
   "cell_type": "code",
   "execution_count": 14,
   "metadata": {
    "colab": {},
    "colab_type": "code",
    "id": "UykuhCaKr2sH"
   },
   "outputs": [
    {
     "name": "stdout",
     "output_type": "stream",
     "text": [
      "Value of sin(x): 0.8414709848078965\n",
      "Derivative of sin(x): {'x': 0.5403023058681398}\n",
      "Second derivative of sin(x): {'x': -0.245647748216941}\n"
     ]
    }
   ],
   "source": [
    "#Example:\n",
    "val=1\n",
    "#instantiate a Variable object\n",
    "x=Variable('x', val)\n",
    "#test_sin\n",
    "obj = elem.sin(x)\n",
    "print(\"Value of sin(x):\", obj.val)\n",
    "print(\"Derivative of sin(x):\", obj.der)\n",
    "print(\"Second derivative of sin(x):\", obj.der2)"
   ]
  },
  {
   "cell_type": "code",
   "execution_count": 15,
   "metadata": {
    "colab": {},
    "colab_type": "code",
    "id": "Z_qfDc16sbW1"
   },
   "outputs": [
    {
     "name": "stdout",
     "output_type": "stream",
     "text": [
      "Value of cos(x): 0.5403023058681398\n",
      "Derivative of cos(x): {'x': -0.4546487134128409}\n",
      "Second derivative of cos(x): {'x': 0.09502201992835783}\n"
     ]
    }
   ],
   "source": [
    "#test_cos\n",
    "obj=elem.cos(x)\n",
    "print(\"Value of cos(x):\", obj.val)\n",
    "print(\"Derivative of cos(x):\", obj.der)\n",
    "print(\"Second derivative of cos(x):\", obj.der2)"
   ]
  },
  {
   "cell_type": "code",
   "execution_count": 16,
   "metadata": {
    "colab": {},
    "colab_type": "code",
    "id": "afaWj2Jmshnn"
   },
   "outputs": [
    {
     "name": "stdout",
     "output_type": "stream",
     "text": [
      "Value of tan(x): 1.557407724654902\n",
      "Derivative of tan(x): {'x': -1.557407724654902}\n",
      "Second derivative of tan(x): {'x': 26.205443404132758}\n"
     ]
    }
   ],
   "source": [
    "#test_tan\n",
    "obj=elem.tan(x)\n",
    "print(\"Value of tan(x):\", obj.val)\n",
    "print(\"Derivative of tan(x):\", obj.der)\n",
    "print(\"Second derivative of tan(x):\", obj.der2)"
   ]
  },
  {
   "cell_type": "code",
   "execution_count": 17,
   "metadata": {
    "colab": {},
    "colab_type": "code",
    "id": "cm1ihGVTsn5q"
   },
   "outputs": [
    {
     "name": "stdout",
     "output_type": "stream",
     "text": [
      "Value of exp(x): 2.718281828459045\n",
      "Derivative of exp(x): {'x': -4.233473117431168}\n",
      "Second derivative of exp(x): {'x': 119.95162844552748}\n"
     ]
    }
   ],
   "source": [
    "#test_exponential\n",
    "obj=elem.exp(x)\n",
    "print(\"Value of exp(x):\", obj.val)\n",
    "print(\"Derivative of exp(x):\", obj.der)\n",
    "print(\"Second derivative of exp(x):\", obj.der2)"
   ]
  },
  {
   "cell_type": "code",
   "execution_count": 18,
   "metadata": {
    "colab": {},
    "colab_type": "code",
    "id": "0jSgEOvcs8kl"
   },
   "outputs": [
    {
     "name": "stdout",
     "output_type": "stream",
     "text": [
      "Value of ln(x): 0.0\n",
      "Derivative of ln(x): {'x': -4.233473117431168}\n",
      "Second derivative of ln(x): {'x': 102.02933380951511}\n"
     ]
    }
   ],
   "source": [
    "#test_log\n",
    "obj=elem.log(x) # this directly computes the ln(); elem.log(x,base) should allow any base to work.\n",
    "print(\"Value of ln(x):\", obj.val)\n",
    "print(\"Derivative of ln(x):\", obj.der)\n",
    "print(\"Second derivative of ln(x):\", obj.der2)"
   ]
  },
  {
   "cell_type": "code",
   "execution_count": 19,
   "metadata": {},
   "outputs": [
    {
     "name": "stdout",
     "output_type": "stream",
     "text": [
      "Value: 6.757978618236107\n",
      "Derivative: {'y': 6.217676312367968, 'x': -14.976653429042166}\n",
      "Second derivative: {'y': 339.47362416019337, 'x': 330.1188238407425}\n"
     ]
    }
   ],
   "source": [
    "#Multivariable example\n",
    "val=2\n",
    "y=Variable('y', val)\n",
    "obj=elem.sin(x)*elem.exp(y) + elem.cos(x)\n",
    "print(\"Value:\", obj.val)\n",
    "print(\"Derivative:\", obj.der)\n",
    "print(\"Second derivative:\", obj.der2)"
   ]
  },
  {
   "cell_type": "markdown",
   "metadata": {
    "colab_type": "text",
    "id": "MRIZ9ZF89NNV"
   },
   "source": [
    "\n",
    "What method and name attributes will your classes have?\n",
    "\n",
    "* Methods for Variable Class\n",
    "\n",
    "```\n",
    "__add__\n",
    "__radd__\n",
    "__sub__\n",
    "__rsub__\n",
    "__mul__\n",
    "__rmul__\n",
    "__truediv__\n",
    "__rtruediv__\n",
    "__pow__\n",
    "__rpow__\n",
    "__neg__\n",
    "\n",
    "``` \n",
    "What external dependencies will you rely on?\n",
    "\n",
    "\n",
    "```\n",
    "Numpy\n",
    "\n",
    "Pytest\n",
    "\n",
    "Pytest-mock\n",
    "\n",
    "```\n"
   ]
  },
  {
   "cell_type": "markdown",
   "metadata": {
    "colab_type": "text",
    "id": "kdBwsz52IeAV"
   },
   "source": [
    "How will you deal with elementary functions like ***sin, sqrt, log, and exp*** (and all the others)?\n",
    "\n",
    "> Elementary functions: \n",
    "\n",
    "*   sin, cos, tan\n",
    "*   log (logarithm of any chosen base)\n",
    "*   exp\n",
    "*   arcsin, arccos, arctan \n",
    "*   sinh, cosh, tanh\n",
    "*   sqrt\n",
    "\n",
    "Our module relies on the NumPy package to evaluate the above elementary functions. The methods in the func module define how to perform elementary operations on scalars as well as variable objects.\n",
    "\n",
    "For example, the sin function uses numpy.sin and numpy.cos to calculate value and derivative respectively. When a scalar input is detected, it is given a null derivative (i.e. treated as a constant). Sin returns a variable object with the updated value and derivative (perhaps zero)."
   ]
  },
  {
   "cell_type": "markdown",
   "metadata": {
    "colab_type": "text",
    "id": "32vwQM5TO8-s"
   },
   "source": [
    "# Optimization Methods\n",
    "\n",
    "To motivate the importance of automatic differentiation, BitterDispute comes with several optimization functions included. A user can find the optimum point using everyone's favorite optimizations such as Newton's Method, Gradient Descent, and Backtracking Line Search.\n",
    "\n",
    "**Goal**: Find the minimizer $x^*$ that minimizes the objective function $f(x)$, such that $\\nabla f(x^*)=0$\n",
    "$$x^* = argmin\\ f(x)$$ \n",
    "\n",
    "To find a valid solution on optimization problems, we want to introduce a second-derivative method to our software package: **Newton's method** \n",
    "\n",
    "Recall that Taylor expansion is: \n",
    "$$f(x+h) \\approx f(x) + f'(x)h$$\n",
    "\n",
    "Here we have a nonlinear function that can be estimated using linear approximation close to x\n",
    "\n",
    "$f'(x+h) = 0$ , that is  $f'(x) + f''(x)h = 0$, that is $h = -\\frac{f'(x)}{f''(x)}$\n",
    "\n",
    "**Algorithm in 1-Dimension:**\n",
    "\n",
    "$$x_0 = initial\\ guess$$\n",
    "$$h = -\\frac{f'(x)}{f''(x)}$$\n",
    "\n",
    "$$x_{k+1}=x_{k} + h = x_{k}-\\frac{f'(x)}{f''(x)}$$\n",
    "\n",
    "**Algorithm in *N*-Dimension:**\n",
    "$$x_0 = initial\\ guess$$\n",
    "Solve $$J_k s_k = -f(x_k)$$ where $J_k$ is the Jacobian matrix, and $(J)_{ij} = \\frac{\\partial f_i}{\\partial x_j}$\n",
    "\n",
    "Update $$x_{k+1}=x_{k} + s_k$$"
   ]
  },
  {
   "cell_type": "markdown",
   "metadata": {},
   "source": [
    "The module of Newton's method can be used as shown below:"
   ]
  },
  {
   "cell_type": "code",
   "execution_count": 20,
   "metadata": {},
   "outputs": [],
   "source": [
    "from bitterdispute.elementary_functions import *\n",
    "from bitterdispute.variable import Variable\n",
    "from bitterdispute.optimization_newton_quasi_newton import *\n",
    "import numpy as np\n",
    "import matplotlib.pyplot as plt"
   ]
  },
  {
   "cell_type": "code",
   "execution_count": 21,
   "metadata": {},
   "outputs": [],
   "source": [
    "def plot_opt(x_ls, f_=lambda x: (x-5)**2):\n",
    "    x_ls = np.array(x_ls)\n",
    "    y = f_(x_ls)\n",
    "    x_ = np.linspace(-2, 4, 250)\n",
    "    z_ = f_(x_)\n",
    "\n",
    "    plt.plot(x_ls, y, lw=3, alpha=0.5, label=\"Optimization\")\n",
    "    plt.plot(x_, z_, lw=3, ls=\"--\", alpha = 0.5, label=\"Real\")\n",
    "    plt.legend()\n",
    "    plt.show()\n",
    "def plot_result(x_ls):\n",
    "    x = np.linspace(0., 2., 250)\n",
    "    y = np.linspace(0., 2., 250)\n",
    "    x, y = np.meshgrid(x, y)\n",
    "    z = (1-x)**2 + (y-x*x)**2\n",
    "    levels = np.exp(np.linspace(0., 2., 10)) - 0.9\n",
    "\n",
    "    x_ls = np.array(x_ls)\n",
    "    plt.plot(x_ls[:,0], x_ls[:,1], label=\"Newton Method\")\n",
    "    plt.contour(x, y, z, levels, colors='k', linewidths=0.75)\n",
    "    plt.xlabel(\"x\")\n",
    "    plt.ylabel(\"y\")\n",
    "    plt.legend()\n",
    "    plt.show()\n",
    "\n",
    "\n",
    "def funct(values):\n",
    "    var = Variable(name='x', value=values)\n",
    "    f = (var-5)**2\n",
    "    \n",
    "    return f\n",
    "\n",
    "def funct_vect(values):\n",
    "    var1 = Variable(name='x',value=values[0])\n",
    "    var2 = Variable(name='y',value=values[1])\n",
    "    f = (1.-var1)**2. + (var2-var1*var1)**2.\n",
    "    \n",
    "    return f\n"
   ]
  },
  {
   "cell_type": "markdown",
   "metadata": {},
   "source": [
    "The Quasi Newton's method works as the following:"
   ]
  },
  {
   "cell_type": "code",
   "execution_count": 22,
   "metadata": {},
   "outputs": [
    {
     "name": "stdout",
     "output_type": "stream",
     "text": [
      "Reach requirement. At iteration 230\n",
      "X value:  4.9999999989315835\n"
     ]
    },
    {
     "data": {
      "image/png": "[encoded data removed]",
      "text/plain": [
       "<Figure size 432x288 with 1 Axes>"
      ]
     },
     "metadata": {
      "needs_background": "light"
     },
     "output_type": "display_data"
    },
    {
     "name": "stdout",
     "output_type": "stream",
     "text": [
      "Reach max iteration!\n",
      "Result: [0.99703789 0.99110145] ; f(x) =  1.7673021382752548e-05\n",
      "X value:  [0.99703789 0.99110145]\n"
     ]
    },
    {
     "data": {
      "image/png": "[encoded data removed]",
      "text/plain": [
       "<Figure size 432x288 with 1 Axes>"
      ]
     },
     "metadata": {
      "needs_background": "light"
     },
     "output_type": "display_data"
    },
    {
     "name": "stdout",
     "output_type": "stream",
     "text": [
      "Reach requirement. At iteration 28\n",
      "X value:  4.999997543564156\n"
     ]
    },
    {
     "data": {
      "image/png": "[encoded data removed]",
      "text/plain": [
       "<Figure size 432x288 with 1 Axes>"
      ]
     },
     "metadata": {
      "needs_background": "light"
     },
     "output_type": "display_data"
    },
    {
     "name": "stdout",
     "output_type": "stream",
     "text": [
      "Reach requirement. At iteration 109\n",
      "X value:  [0.99999359 0.99998813]\n"
     ]
    },
    {
     "data": {
      "image/png": "[encoded data removed]",
      "text/plain": [
       "<Figure size 432x288 with 1 Axes>"
      ]
     },
     "metadata": {
      "needs_background": "light"
     },
     "output_type": "display_data"
    }
   ],
   "source": [
    "#=== Quasi Newton\n",
    "xn, x_ls = Quasi_Newton(funct, 1, iter_max=1000)\n",
    "print(\"X value: \", xn)\n",
    "\n",
    "plot_opt(x_ls, f_=lambda x: (x-5)**2)\n",
    "\n",
    "\n",
    "xn, x_ls = Quasi_Newton(f=funct_vect, x0=np.array([0.1, 0.2]), iter_max=100)\n",
    "print(\"X value: \", xn)\n",
    "\n",
    "## plot out the result\n",
    "plot_result(x_ls)\n",
    "\n",
    "##==== Newton\n",
    "## run optimization on newton method\n",
    "xn, x_ls = Newton(funct, 1)\n",
    "print(\"X value: \", xn)\n",
    "\n",
    "## plot out the result\n",
    "plot_opt(x_ls, f_=lambda x: (x-5)**2)\n",
    "\n",
    "\n",
    "## run optimization on newton method\n",
    "xn, x_ls = Newton(funct_vect, x0=np.array([0.1, 0.2]), iter_max=1000)\n",
    "print(\"X value: \", xn)\n",
    "\n",
    "## plot out the result\n",
    "plot_result(x_ls)\n",
    "\n"
   ]
  },
  {
   "cell_type": "markdown",
   "metadata": {},
   "source": [
    "\n",
    "**Convergence**\n",
    "- Quadratic convergence\n",
    "- May fail and reach a local convergence\n",
    "\n",
    "**Gradient Descent:** \n",
    "\n",
    "For gradient descent, in each iteration the step is defined by $\\Delta x_k = - stepsize * \\nabla f(x_k)$. \n",
    "The user can change the initial guesses, step size, max number of iterations, and tolerance.\n",
    "\n",
    "\n",
    "The module can be used as shown below:\n",
    "```python\n",
    ">>> def f(val):\n",
    "...     x1 = Variable('x',val)\n",
    "...     f = (x1-5) ** 2\n",
    "...    return f\n",
    ">>> a = gradientDescent(f,init_val=[3],lr=0.01, max_iters=10000, tol=1e-4)\n",
    "\n",
    "\" Total iterations, 298, and the local minimum occurs at 4.99514263709298.\"\n",
    "```\n",
    "\n",
    "\n",
    "**Backtracking Line Search:** \n",
    "\n",
    "It is one of the line search methods used to determine the maximum amount to move along a given search direction.\n",
    "\n",
    "\n",
    "Starting with a maximum candidate step size value $\\alpha$>0, using search control parameters $\\tau$ and $c$, the backtracking line search algorithm reduce $\\alpha$ by a factor of $\\tau$, in each iteration until the Armijo–Goldstein condition:  $f(x)- f(x + \\alpha_i *p) \\geq \\alpha_i *t$, where $t=-cm$, is fulfilled\n",
    "\n",
    " \n",
    "The module can be used as shown below:\n",
    "```python\n",
    ">>> def f(val):\n",
    "...    x1 = Variable('x',val[0])\n",
    "...    f = (x1-5) ** 2\n",
    "...    return f\n",
    ">>> a = backtrackingLineSearch(f, init_val=[7])\n",
    ">>> b = backtrackingLineSearch(f, init_val=[5])\n",
    "\"Total iterations 1, the alpha, step size, is 0.1\"\n",
    "\"Total iterations 9, the alpha, step size, is 1.0000000000000002e-17\"\n",
    "\n",
    "```\n",
    "\n",
    "\n"
   ]
  },
  {
   "cell_type": "markdown",
   "metadata": {},
   "source": [
    "## **Future**:\n",
    "\n",
    "Given AD is such a powerful tool to differentiate mathematical functions and algorithms. In the future, we would like to add some other mathematical tools, including root finding algorithm, reverse mode, and back propagation. In addition, we can build a more user friendly interface.\n",
    "\n",
    "AD has been used in many applications in neural network, Hamiltonian Monte Carlo sampling, variational inference. The relevance of AD extends to other scientific fields: such as for quantum chemistry. We could potentially use the AD to find a novel general path forward to reduce the human time spent on the implementation gradients for electronic structure methods.$^7$ Additionally,  simulation of the highly non-linear chemical engineering models, can benefit from the development of robust and accurate differentiation technique and tool, such as automatic differentiation.$^8$"
   ]
  },
  {
   "cell_type": "markdown",
   "metadata": {
    "colab_type": "text",
    "id": "jNOX_heyvAgK"
   },
   "source": [
    "**References**\n",
    "\n",
    "[1] Derivative. Wikipedia. Available at: https://en.wikipedia.org/wiki/Derivative#History\n",
    "\n",
    "[2] Hoffman, Philipp H.W. “A Hitchhiker’s Guide to Automatic Differentiation.” Numerical Algorithms, 72, 24 October 2015, 775-811, Springer Link, DOI 10.1007/s11075-015-0067-6. \n",
    "\n",
    "[3] Automatic differentiation. Wikipedia. Available at https://en.wikipedia.org/wiki/Automatic_differentiation.\n",
    "\n",
    "[4] Griewank, A., in Complexity in Nonlinear Optimization (ed. Pardalos, P.), World Scientific, Singapore, 1993, pp. 128–161.\n",
    "\n",
    "[5] Coleman, T. F. and Verma, A., in Computational Differentiation: Techniques, Applications and Tools (eds Berz, M., Bischof, C., Corliss, G. and Griewank, A.), SIAM, Philadelphia, 1966, pp. 149–159.\n",
    "\n",
    "[6] Andreas Griewank: Evaluating Derivatives. SIAM 2000.\n",
    "\n",
    "[7] ACS Cent. Sci. 2018, 4, 5, 559-566. Publication Date:May 9, 2018\n",
    "\n",
    "[8] Braz. J. Chem. Eng. vol.17 n.4-7 São Paulo Dec. 2000.\n",
    "\n"
   ]
  }
 ],
 "metadata": {
  "colab": {
   "collapsed_sections": [],
   "name": " 207 of Diamonds - Milestone 2.ipynb",
   "provenance": []
  },
  "kernelspec": {
   "display_name": "Python 3",
   "language": "python",
   "name": "python3"
  },
  "language_info": {
   "codemirror_mode": {
    "name": "ipython",
    "version": 3
   },
   "file_extension": ".py",
   "mimetype": "text/x-python",
   "name": "python",
   "nbconvert_exporter": "python",
   "pygments_lexer": "ipython3",
   "version": "3.7.3"
  }
 },
 "nbformat": 4,
 "nbformat_minor": 1
}
