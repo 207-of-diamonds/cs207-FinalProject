{
 "cells": [
  {
   "cell_type": "code",
   "execution_count": 4,
   "metadata": {},
   "outputs": [],
   "source": [
    "from scalar import Scalar\n",
    "import numpy as np\n",
    "import math"
   ]
  },
  {
   "cell_type": "code",
   "execution_count": 5,
   "metadata": {},
   "outputs": [],
   "source": [
    "from scalar import Scalar\n",
    "\n",
    "#trig\n",
    "def sin(x): #--> cos\n",
    "    try:\n",
    "        value = np.sin(x.val)\n",
    "        derivative = np.cos(x.val) * x.der\n",
    "        return Scalar(value, derivative)\n",
    "    except AttributeError: # constant\n",
    "        return np.sin(x)\n",
    "\n",
    "def cos(x): #--> -sin\n",
    "    try:\n",
    "        value = np.cos(x.val)\n",
    "        derivative = -np.sin(x.val) * x.der\n",
    "        return Scalar(value, derivative)\n",
    "    except AttributeError:\n",
    "        return np.cos(x)\n",
    "\n",
    "def tan(x): #--> 1/cos^2(x)\n",
    "    try:\n",
    "        value = np.tan(x.val)\n",
    "        derivative = (1 / (np.cos(x.val) ** 2)) * x.der\n",
    "        return Scalar(value, derivative)\n",
    "    except AttributeError:\n",
    "        return np.tan(x)\n",
    "\n",
    "def arcsin(x): #--> 1/np.sqrt(1-x^2)\n",
    "    try:\n",
    "        value = np.arcsin(x.val)\n",
    "        derivative = (1 / np.sqrt(1 - x.val ** 2)) * x.der\n",
    "        return Scalar(value, derivative)\n",
    "    except AttributeError:\n",
    "        return np.arcsin(x)\n",
    "\n",
    "def arccos(x):#--> -1/np.sqrt(1-x^2)\n",
    "    try:\n",
    "        value = np.arccos(x.val)\n",
    "        derivative = (1 / -np.sqrt(1 - x.val ** 2)) * x.der\n",
    "        return Scalar(value, derivative)\n",
    "    except AttributeError:\n",
    "        return np.arccos(x)\n",
    "\n",
    "def arctan(x):#--> 1/(1+x^2)\n",
    "    try:\n",
    "        value = np.arctan(x.val)\n",
    "        derivative = (1 / (1 + x.val ** 2)) * x.der\n",
    "        return Scalar(value, derivative)\n",
    "    except AttributeError:\n",
    "        return np.arctan(x)\n",
    "\n",
    "def sinh(x):#--> cosh\n",
    "    try:\n",
    "        value = math.sinh(x.val)\n",
    "        derivative = math.cosh(x.val) * x.der\n",
    "        return Scalar(value, derivative)\n",
    "    except AttributeError:\n",
    "        return math.sinh(x)\n",
    "\n",
    "def cosh(x):#--> sinh\n",
    "    try:\n",
    "        value = math.cosh(x.val)\n",
    "        derivative = math.sinh(x.val) * x.der\n",
    "        return Scalar(value, derivative)\n",
    "    except AttributeError:\n",
    "        return math.cosh(x)\n",
    "\n",
    "def tanh(x):#--> 1 / (cosh^2)\n",
    "    try:\n",
    "        value = math.tanh(x.val)\n",
    "        derivative = (1 / (cosh(x.val) ** 2)) * x.der\n",
    "        return Scalar(value, derivative)\n",
    "    except AttributeError:\n",
    "        return 1 / (cosh(x) ** 2)\n",
    "\n",
    "#exponential and power\n",
    "def exp(x):\n",
    "    try:\n",
    "        value = np.exp(x.val)\n",
    "        derivative = x.val * x.der\n",
    "        return Scalar(value, derivative)\n",
    "    except AttributeError:\n",
    "        return np.exp(x)\n",
    "\n",
    "def log(x, base=math.e):\n",
    "    try:\n",
    "        value = math.log(x.val, base)\n",
    "        derivative = (1 / (x.val * math.log(base))) * x.der\n",
    "        return Scalar(value, derivative)\n",
    "    except AttributeError:\n",
    "        return math.log(x, base)\n"
   ]
  },
  {
   "cell_type": "code",
   "execution_count": null,
   "metadata": {},
   "outputs": [],
   "source": [
    "def test_sin():    \n",
    "    a = 2.0\n",
    "    x = Scalar(a)\n",
    "    f = sin(x)\n",
    "\n",
    "    assert (np.isclose(f.val,0.90929742682))\n",
    "    assert (np.isclose(f.der,-0.41614683654))\n"
   ]
  },
  {
   "cell_type": "code",
   "execution_count": null,
   "metadata": {},
   "outputs": [],
   "source": [
    "def test_cos():\n",
    "    a = 2.0\n",
    "    x = Scalar(a)\n",
    "    f = cos(x)\n",
    "\n",
    "    assert (np.isclose(f.val,-0.41614683654))\n",
    "    assert (np.isclose(f.der,-0.9092974268256817))"
   ]
  },
  {
   "cell_type": "code",
   "execution_count": null,
   "metadata": {},
   "outputs": [],
   "source": [
    "def test_tan():\n",
    "    a = 2.0\n",
    "    x = Scalar(a)\n",
    "    f = tan(x)\n",
    "\n",
    "    assert (np.isclose(f.val,-2.185039863261519))\n",
    "    assert (np.isclose(f.der,5.774399204041917))"
   ]
  },
  {
   "cell_type": "code",
   "execution_count": null,
   "metadata": {},
   "outputs": [],
   "source": [
    "def test_exp():\n",
    "    a = 2.0\n",
    "    x = Scalar(a)\n",
    "    f = exp(x)\n",
    "\n",
    "    assert (np.isclose(f.val,7.38905609893065))\n",
    "    assert (np.isclose(f.der,2))"
   ]
  },
  {
   "cell_type": "code",
   "execution_count": 19,
   "metadata": {},
   "outputs": [],
   "source": [
    "# Examples\n",
    "a = 2.0 \n",
    "x = Scalar(a)\n"
   ]
  },
  {
   "cell_type": "code",
   "execution_count": 24,
   "metadata": {},
   "outputs": [],
   "source": [
    "f = exp(x)"
   ]
  },
  {
   "cell_type": "code",
   "execution_count": 27,
   "metadata": {},
   "outputs": [
    {
     "data": {
      "text/plain": [
       "2.0"
      ]
     },
     "execution_count": 27,
     "metadata": {},
     "output_type": "execute_result"
    }
   ],
   "source": [
    "f.der"
   ]
  },
  {
   "cell_type": "code",
   "execution_count": 26,
   "metadata": {},
   "outputs": [
    {
     "data": {
      "text/plain": [
       "7.38905609893065"
      ]
     },
     "execution_count": 26,
     "metadata": {},
     "output_type": "execute_result"
    }
   ],
   "source": [
    "np.exp(2)"
   ]
  },
  {
   "cell_type": "code",
   "execution_count": 12,
   "metadata": {},
   "outputs": [],
   "source": [
    "## sinh ======================\n",
    "def test_sinh_result_constant():\n",
    "    assert elem.sinh(1.0) == np.sinh(1.0)\n",
    "\n",
    "def test_sihn_result_var():\n",
    "    val = 1\n",
    "    x = sc.Scalar(val)\n",
    "    obj_generate = elem.sinh(x)\n",
    "    obj_wanted = sc.Scalar(np.sinh(val), np.cosh(val))\n",
    "    assert obj_generate.val == obj_wanted.val\n",
    "    assert obj_generate.der == obj_wanted.der\n",
    "\n",
    "def test_sinh_types():\n",
    "    with pytest.raises(TypeError):\n",
    "        elem.sinh(\"hi\")"
   ]
  },
  {
   "cell_type": "code",
   "execution_count": null,
   "metadata": {},
   "outputs": [],
   "source": [
    "## cosh ======================\n",
    "def test_cosh_result_constant():\n",
    "    assert elem.cosh(1.0) == np.cosh(1.0)\n",
    "\n",
    "def test_cosh_result_var():\n",
    "    val = 1\n",
    "    x = sc.Scalar(val)\n",
    "    obj_generate = elem.cosh(x)\n",
    "    obj_wanted = sc.Scalar(np.cosh(val), np.sinh(val))\n",
    "    assert obj_generate.val == obj_wanted.val\n",
    "    assert obj_generate.der == obj_wanted.der\n",
    "\n",
    "def test_cosh_types():\n",
    "    with pytest.raises(TypeError):\n",
    "        elem.cosh(\"hi\")"
   ]
  },
  {
   "cell_type": "code",
   "execution_count": 30,
   "metadata": {},
   "outputs": [],
   "source": [
    "## tanh ======================\n",
    "def test_tanh_result_constant():\n",
    "    assert elem.tanh(1.0) == np.tanh(1.0)\n",
    "\n",
    "def test_tanh_result_var():\n",
    "    val = 1\n",
    "    x = sc.Scalar(val)\n",
    "    obj_generate = elem.tanh(x)\n",
    "    obj_wanted = sc.Scalar(np.tanh(val), (1/np.cosh(val))**2)\n",
    "    assert obj_generate.val == obj_wanted.val\n",
    "    assert obj_generate.der == obj_wanted.der\n",
    "\n",
    "def test_tanh_types():\n",
    "    with pytest.raises(TypeError):\n",
    "        elem.tanh(\"hi\")"
   ]
  },
  {
   "cell_type": "code",
   "execution_count": null,
   "metadata": {},
   "outputs": [],
   "source": [
    "## exp ======================\n",
    "def test_exp_result_constant():\n",
    "    assert elem.exp(1.0) == np.exp(1.0)\n",
    "\n",
    "def test_exp_result_var():\n",
    "    val = 1\n",
    "    x = sc.Scalar(val)\n",
    "    obj_generate = elem.exp(x)\n",
    "    obj_wanted = sc.Scalar(np.exp(val), np.exp(val))\n",
    "    assert obj_generate.val == obj_wanted.val\n",
    "    assert obj_generate.der == obj_wanted.der\n",
    "\n",
    "def test_exp_types():\n",
    "    with pytest.raises(TypeError):\n",
    "        elem.exp(\"hi\")"
   ]
  },
  {
   "cell_type": "code",
   "execution_count": 31,
   "metadata": {},
   "outputs": [
    {
     "data": {
      "text/plain": [
       "7.38905609893065"
      ]
     },
     "execution_count": 31,
     "metadata": {},
     "output_type": "execute_result"
    }
   ],
   "source": [
    "## log ======================\n",
    "def test_log_result_constant():\n",
    "    assert elem.log(1.0) == np.log(1.0)\n",
    "\n",
    "def test_exp_result_var():\n",
    "    val = 1\n",
    "    x = sc.Scalar(val)\n",
    "    obj_generate = elem.log(x)\n",
    "    obj_wanted = sc.Scalar(np.log(val), 1/(val))\n",
    "    assert obj_generate.val == obj_wanted.val\n",
    "    assert obj_generate.der == obj_wanted.der\n",
    "\n",
    "def test_exp_types():\n",
    "    with pytest.raises(TypeError):\n",
    "        elem.log(\"hi\")"
   ]
  },
  {
   "cell_type": "code",
   "execution_count": 38,
   "metadata": {},
   "outputs": [
    {
     "data": {
      "text/plain": [
       "3.6268604078470186"
      ]
     },
     "execution_count": 38,
     "metadata": {},
     "output_type": "execute_result"
    }
   ],
   "source": [
    "np.sinh(2)"
   ]
  }
 ],
 "metadata": {
  "kernelspec": {
   "display_name": "Python 3",
   "language": "python",
   "name": "python3"
  },
  "language_info": {
   "codemirror_mode": {
    "name": "ipython",
    "version": 3
   },
   "file_extension": ".py",
   "mimetype": "text/x-python",
   "name": "python",
   "nbconvert_exporter": "python",
   "pygments_lexer": "ipython3",
   "version": "3.7.4"
  }
 },
 "nbformat": 4,
 "nbformat_minor": 2
}
